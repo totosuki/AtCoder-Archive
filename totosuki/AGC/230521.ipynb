{
 "cells": [
  {
   "cell_type": "code",
   "execution_count": 62,
   "metadata": {},
   "outputs": [],
   "source": [
    "#テスト用関数\n",
    "def return_new_T_test(T):\n",
    "  indexes = [i for i,T in enumerate(T) if T == \"A\"] + [i for i,T in enumerate(T) if T == \"B\"]\n",
    "  new_T = [T[i + 1] for i in indexes if i < len(T) - 1]\n",
    "  print(f\"indexes: {indexes}\")\n",
    "  print(f\"new_T: {new_T}\")\n",
    "  return new_T"
   ]
  },
  {
   "cell_type": "code",
   "execution_count": null,
   "metadata": {},
   "outputs": [],
   "source": [
    "def return_new_T(T, n):\n",
    "  indexes = [i for i,T in enumerate(T) if T in \"A\"] + [i for i,T in enumerate(T) if T in \"B\"]\n",
    "  new_T = [T[i + 1] for i in indexes if i < len(T) - 1]\n",
    "  return new_T"
   ]
  },
  {
   "cell_type": "code",
   "execution_count": 64,
   "metadata": {},
   "outputs": [
    {
     "name": "stdout",
     "output_type": "stream",
     "text": [
      "[0, 2, 3]\n",
      "[1, 4]\n"
     ]
    }
   ],
   "source": [
    "def return_last_index(T):\n",
    "  a = [i for i,T in enumerate(T) if T == \"A\"]\n",
    "  b = [i for i,T in enumerate(T) if T == \"B\"]\n",
    "return_last_index(\"ABAAB\")"
   ]
  },
  {
   "cell_type": "code",
   "execution_count": 67,
   "metadata": {},
   "outputs": [
    {
     "name": "stdout",
     "output_type": "stream",
     "text": [
      "AABAAB\n",
      "indexes: [0, 1, 3, 4, 2, 5]\n",
      "new_T: ['A', 'B', 'A', 'B', 'A']\n",
      "indexes: [0, 2, 4, 1, 3]\n",
      "new_T: ['B', 'B', 'A', 'A']\n",
      "indexes: [2, 3, 0, 1]\n",
      "new_T: ['A', 'B', 'A']\n",
      "indexes: [0, 2, 1]\n",
      "new_T: ['B', 'A']\n",
      "indexes: [1, 0]\n",
      "new_T: ['A']\n",
      "A\n"
     ]
    }
   ],
   "source": [
    "times= int(input())\n",
    "for time in range(times):\n",
    "  n = int(input())\n",
    "  T = input()\n",
    "  print(T)\n",
    "  for i in range(n - 1):\n",
    "    new_T = return_new_T_test(new_T) if i != 0 else return_new_T_test(T)\n",
    "  print(*new_T)"
   ]
  }
 ],
 "metadata": {
  "kernelspec": {
   "display_name": "python39",
   "language": "python",
   "name": "python3"
  },
  "language_info": {
   "codemirror_mode": {
    "name": "ipython",
    "version": 3
   },
   "file_extension": ".py",
   "mimetype": "text/x-python",
   "name": "python",
   "nbconvert_exporter": "python",
   "pygments_lexer": "ipython3",
   "version": "3.9.13"
  },
  "orig_nbformat": 4
 },
 "nbformat": 4,
 "nbformat_minor": 2
}
