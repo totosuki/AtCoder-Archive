{
 "cells": [
  {
   "cell_type": "code",
   "execution_count": null,
   "metadata": {},
   "outputs": [],
   "source": [
    "# AtCoderで使えると思ったアルゴリズム等のまとめ"
   ]
  },
  {
   "cell_type": "code",
   "execution_count": null,
   "metadata": {},
   "outputs": [],
   "source": [
    "\"\"\"\n",
    "整数論的アルゴリズム\n",
    "1: 素数判定, 2: 約数列挙, 3: 素因数分解, 4: 最大公約数\n",
    "\"\"\""
   ]
  },
  {
   "cell_type": "code",
   "execution_count": null,
   "metadata": {},
   "outputs": [],
   "source": [
    "# 1: 素数判定 O(√N)\n",
    "# Nの平方根までの全探索で判定可能\n",
    "def is_prime(N: int) -> bool:\n",
    "  if N == 1: return False\n",
    "  x = 2\n",
    "  while x * x <= N:\n",
    "    if N % x == 0: return False\n",
    "    x += 1\n",
    "  return True"
   ]
  },
  {
   "cell_type": "code",
   "execution_count": null,
   "metadata": {},
   "outputs": [],
   "source": [
    "# 1: 素数判定 使用例\n",
    "N = int(input())\n",
    "if is_prime(N):\n",
    "  print(f\"{N} is prime\")\n",
    "else:\n",
    "  print(f\"{N} is not prime\")"
   ]
  },
  {
   "cell_type": "code",
   "execution_count": null,
   "metadata": {},
   "outputs": [],
   "source": [
    "# 2: 約数列挙 O(√N)\n",
    "# 素数判定を応用\n",
    "def enum_divisors(N: int) -> list:\n",
    "  x = 1\n",
    "  rslt = []\n",
    "  while x * x <= N:\n",
    "    if N % x == 0:\n",
    "      rslt.append(x)\n",
    "      # 重複しないならば i の相方の N/i も append\n",
    "      if N/x != x:\n",
    "        rslt.append(N/x)\n",
    "  rslt.sort()\n",
    "  return rslt"
   ]
  },
  {
   "cell_type": "code",
   "execution_count": null,
   "metadata": {},
   "outputs": [],
   "source": [
    "# 2: 約数列挙 使用例\n",
    "N = int(input())\n",
    "rslt = enum_divisors(N)\n",
    "for i in range(len(rslt)):\n",
    "  print(rslt[i])"
   ]
  },
  {
   "cell_type": "code",
   "execution_count": null,
   "metadata": {},
   "outputs": [],
   "source": [
    "# 3: 素因数分解 O(√N)\n",
    "def prime_factorize(N: int) -> list:\n",
    "  rslt = []\n",
    "  x = 2\n",
    "  while x * x <= N:\n",
    "    if N % x != 0: continue\n",
    "    ex = 0 #指数\n",
    "\n",
    "    #割り切れる限り割り続ける\n",
    "    while N % x == 0:\n",
    "      ex += 1\n",
    "      N //= x\n",
    "    \n",
    "    rslt.append([x, ex])\n",
    "  \n",
    "  # N != 1 なら素数なので append\n",
    "  if N != 1: \n",
    "    rslt.append([N, 1])\n",
    "  return rslt"
   ]
  },
  {
   "cell_type": "code",
   "execution_count": null,
   "metadata": {},
   "outputs": [],
   "source": [
    "# 3: 素因数分解 使用例\n",
    "N = int(input())\n",
    "rslt = prime_factorize(N)\n",
    "output_text = str(N) + \" : \"\n",
    "\n",
    "for r in rslt:\n",
    "  for _ in range(r[1]):\n",
    "    output_text += str(r[0]) + \" \"\n",
    "\n",
    "print(output_text)"
   ]
  },
  {
   "cell_type": "code",
   "execution_count": null,
   "metadata": {},
   "outputs": [],
   "source": [
    "# 4: 最大公約数 O(log a)\n",
    "# ユークリッドの互除法を使用\n",
    "def GCD(a: int, b: int) -> int:\n",
    "  if a < b:\n",
    "    return GCD(b, a)\n",
    "  else:\n",
    "    if b == 0:\n",
    "      return a\n",
    "    else:\n",
    "      return GCD(b, a % b)\n",
    "\n",
    "# 標準ライブラリ\n",
    "import math\n",
    "math.gcd()"
   ]
  },
  {
   "cell_type": "code",
   "execution_count": null,
   "metadata": {},
   "outputs": [],
   "source": [
    "\"\"\"\n",
    "その他便利ライブラリ\n",
    "1. 四捨五入, 2: Union-Find\n",
    "\"\"\""
   ]
  },
  {
   "cell_type": "code",
   "execution_count": null,
   "metadata": {},
   "outputs": [],
   "source": [
    "# 1. 四捨五入\n",
    "def my_round(N, power: int):\n",
    "  adjust = 1 if N >=0 else -1\n",
    "  shift = 10 ** (power-1)\n",
    "  N = abs(N * shift)\n",
    "  return (int(N + 0.5) / shift) * adjust"
   ]
  },
  {
   "cell_type": "code",
   "execution_count": null,
   "metadata": {},
   "outputs": [],
   "source": [
    "# 1. 四捨五入 使用例\n",
    "nums = [1.8, 4.3, 6.5, -3.4, -6.7, 64.505]\n",
    "print(*nums)\n",
    "nums = list(map(lambda n: my_round(n, 3), nums))\n",
    "print(*nums)"
   ]
  },
  {
   "cell_type": "code",
   "execution_count": null,
   "metadata": {},
   "outputs": [],
   "source": [
    "# 2. Union-Find\n",
    "from collections import defaultdict\n",
    "\n",
    "class UnionFind():\n",
    "  def __init__(self, n):\n",
    "    self.n = n\n",
    "    self.parents = [-1] * n\n",
    "  \n",
    "  def find(self, x):\n",
    "    if self.parents[x] < 0:\n",
    "      return x\n",
    "    else:\n",
    "      self.parents[x] = self.find(self.parents[x])\n",
    "      return self.parents[x]\n",
    "  \n",
    "  def union(self, x, y):\n",
    "    x = self.find(x)\n",
    "    y = self.find(y)\n",
    "    \n",
    "    if x == y:\n",
    "      return\n",
    "    \n",
    "    if self.parents[x] > self.parents[y]:\n",
    "      x, y = y, x\n",
    "    \n",
    "    self.parents[x] += self.parents[y]\n",
    "    self.parents[y] = x\n",
    "  \n",
    "  def size(self, x):\n",
    "    return -self.parents[self.find(x)]\n",
    "      \n",
    "  def same(self, x, y):\n",
    "    return self.find(x) == self.find(y)\n",
    "  \n",
    "  def members(self, x):\n",
    "    root = self.find(x)\n",
    "    return [i for i in range(self.n) if self.find(i) == root]\n",
    "  \n",
    "  def roots(self):\n",
    "    return [i for i, x in enumerate(self.parents) if x < 0]\n",
    "\n",
    "  def group_count(self):\n",
    "    return len(self.roots())\n",
    "  \n",
    "  def all_group_members(self):\n",
    "    group_members = defaultdict(list)\n",
    "    for member in range(self.n):\n",
    "      group_members[self.find(member)].append(member)\n",
    "    return group_members\n",
    "  \n",
    "  def __str__(self):\n",
    "    return '\\n'.join(f'{r}: {m}' for r, m in self.all_group_members().items())"
   ]
  }
 ],
 "metadata": {
  "kernelspec": {
   "display_name": "atcoder",
   "language": "python",
   "name": "python3"
  },
  "language_info": {
   "codemirror_mode": {
    "name": "ipython",
    "version": 3
   },
   "file_extension": ".py",
   "mimetype": "text/x-python",
   "name": "python",
   "nbconvert_exporter": "python",
   "pygments_lexer": "ipython3",
   "version": "3.8.17"
  },
  "orig_nbformat": 4
 },
 "nbformat": 4,
 "nbformat_minor": 2
}
